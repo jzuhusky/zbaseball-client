{
 "cells": [
  {
   "cell_type": "markdown",
   "metadata": {},
   "source": [
    "## All Client Endpoints here provide access to data for free unless otherwise labeled (PAID)"
   ]
  },
  {
   "cell_type": "code",
   "execution_count": 38,
   "metadata": {},
   "outputs": [],
   "source": [
    "from pprint import pprint\n",
    "from typing import Generator\n",
    "\n",
    "from zbaseballdata.client import ZBaseballDataClient\n",
    "\n",
    "client = ZBaseballDataClient(\"USERNAME\", \"PASSWORD\")"
   ]
  },
  {
   "cell_type": "markdown",
   "metadata": {},
   "source": [
    "## Search for Players know to the Retrosheet Universe"
   ]
  },
  {
   "cell_type": "code",
   "execution_count": 24,
   "metadata": {},
   "outputs": [
    {
     "data": {
      "text/plain": [
       "[{'retro_id': 'jeted001',\n",
       "  'first_name': 'Derek',\n",
       "  'last_name': 'Jeter',\n",
       "  'debut': datetime.date(1995, 5, 29),\n",
       "  'throw': 'R',\n",
       "  'bat': 'R'},\n",
       " {'retro_id': 'jetej101',\n",
       "  'first_name': 'Johnny',\n",
       "  'last_name': 'Jeter',\n",
       "  'debut': datetime.date(1969, 6, 14),\n",
       "  'throw': 'R',\n",
       "  'bat': 'R'},\n",
       " {'retro_id': 'jetes001',\n",
       "  'first_name': 'Shawn',\n",
       "  'last_name': 'Jeter',\n",
       "  'debut': datetime.date(1992, 6, 13),\n",
       "  'throw': 'R',\n",
       "  'bat': 'L'}]"
      ]
     },
     "execution_count": 24,
     "metadata": {},
     "output_type": "execute_result"
    }
   ],
   "source": [
    "players = list(client.get_players(search=\"jeter\"))\n",
    "players"
   ]
  },
  {
   "cell_type": "markdown",
   "metadata": {},
   "source": [
    "## Search for games"
   ]
  },
  {
   "cell_type": "code",
   "execution_count": 13,
   "metadata": {},
   "outputs": [
    {
     "data": {
      "text/plain": [
       "[{'game_id': 'NYA201903280',\n",
       "  'date': '2019-03-28',\n",
       "  'start_time': '13:12:00',\n",
       "  'home_team': 9,\n",
       "  'away_team': 82},\n",
       " {'game_id': 'NYA201903300',\n",
       "  'date': '2019-03-30',\n",
       "  'start_time': '13:08:00',\n",
       "  'home_team': 9,\n",
       "  'away_team': 82},\n",
       " {'game_id': 'NYA201903310',\n",
       "  'date': '2019-03-31',\n",
       "  'start_time': '16:22:00',\n",
       "  'home_team': 9,\n",
       "  'away_team': 82}]"
      ]
     },
     "execution_count": 13,
     "metadata": {},
     "output_type": "execute_result"
    }
   ],
   "source": [
    "# list through all games known to the retrosheet universe\n",
    "all_games: Generator = client.get_games()\n",
    "    \n",
    "\"\"\"\n",
    "def get_games(\n",
    "        self,\n",
    "        year: int = None,\n",
    "        team_id: str = None,\n",
    "        start_date: str = None,\n",
    "        end_date: str = None,\n",
    "        game_type: str = None,  # REG, POST, ALCS, ALWC, WS (etc...)\n",
    "    ):\n",
    "    .....\n",
    "\"\"\"\n",
    "\n",
    "# list the yankees games for 2019 (includes reg season and playoffs)\n",
    "nyy_2019: Generator = client.get_games(team_id=\"NYA\", year=2019)\n",
    "list(nyy_2019)[:3]"
   ]
  },
  {
   "cell_type": "markdown",
   "metadata": {},
   "source": [
    "## Get specifics about a single game"
   ]
  },
  {
   "cell_type": "code",
   "execution_count": 15,
   "metadata": {},
   "outputs": [
    {
     "data": {
      "text/plain": [
       "{'game_id': 'NYA201903310',\n",
       " 'home_team': {'id': 9,\n",
       "  'team_id': 'NYA',\n",
       "  'nick_name': 'Yankees',\n",
       "  'city': 'New York',\n",
       "  'franchise_id': 'BLA',\n",
       "  'league': 'AL',\n",
       "  'start_year': 1903,\n",
       "  'end_year': None},\n",
       " 'away_team': {'id': 82,\n",
       "  'team_id': 'BAL',\n",
       "  'nick_name': 'Orioles',\n",
       "  'city': 'Baltimore',\n",
       "  'franchise_id': 'MLA',\n",
       "  'league': 'AL',\n",
       "  'start_year': 1954,\n",
       "  'end_year': None},\n",
       " 'game_site': {'park_id': 'NYC21',\n",
       "  'verbose_name': 'Yankee Stadium II',\n",
       "  'aka': '',\n",
       "  'city': 'New York',\n",
       "  'state': 'NY',\n",
       "  'start_date': '2009-04-16',\n",
       "  'end_date': None,\n",
       "  'league': 'AL',\n",
       "  'notes': '\"\"'},\n",
       " 'date': datetime.date(2019, 3, 31),\n",
       " 'start_time': '16:22:00',\n",
       " 'game_number': 0,\n",
       " 'day_or_night': 'day',\n",
       " 'use_dh': True,\n",
       " 'game_type': 'REG',\n",
       " 'how_scored': 'park',\n",
       " 'pitches': 'pitches',\n",
       " 'official_scorer': 'sprej701',\n",
       " 'temperature': 47,\n",
       " 'wind_dir': 'fromrf',\n",
       " 'wind_speed': 18,\n",
       " 'field_condition': 'unknown',\n",
       " 'precipitation': 'unknown',\n",
       " 'sky': 'cloudy',\n",
       " 'game_duration': 228,\n",
       " 'attendance': 38419,\n",
       " 'winning_pitcher': 'meanj001',\n",
       " 'losing_pitcher': 'happj001',\n",
       " 'save_pitcher': 'fry-p001',\n",
       " 'ump_hp': 'buckc901',\n",
       " 'ump_1b': 'reybd901',\n",
       " 'ump_2b': 'culbf901',\n",
       " 'ump_3b': 'nauep901',\n",
       " 'ump_lf': None,\n",
       " 'ump_rf': None}"
      ]
     },
     "execution_count": 15,
     "metadata": {},
     "output_type": "execute_result"
    }
   ],
   "source": [
    "# Retrosheet games have a unique GAME ID\n",
    "client.get_game(\"NYA201903310\")"
   ]
  },
  {
   "cell_type": "markdown",
   "metadata": {},
   "source": [
    "## Search for Parks & Get basic info about specific ones"
   ]
  },
  {
   "cell_type": "code",
   "execution_count": 20,
   "metadata": {},
   "outputs": [
    {
     "name": "stdout",
     "output_type": "stream",
     "text": [
      "[{'aka': '',\n",
      "  'city': 'Albany',\n",
      "  'end_date': datetime.date(1882, 5, 30),\n",
      "  'league': 'NL',\n",
      "  'notes': '\"TRN:9/11/80;6/15&9/10/1881;5/16-5/18&5/30/1882\"',\n",
      "  'park_id': 'ALB01',\n",
      "  'start_date': datetime.date(1880, 9, 11),\n",
      "  'state': 'NY',\n",
      "  'verbose_name': 'Riverside Park'},\n",
      " {'aka': '',\n",
      "  'city': 'Altoona',\n",
      "  'end_date': datetime.date(1884, 5, 31),\n",
      "  'league': 'UA',\n",
      "  'notes': '\"\"',\n",
      "  'park_id': 'ALT01',\n",
      "  'start_date': datetime.date(1884, 4, 30),\n",
      "  'state': 'PA',\n",
      "  'verbose_name': 'Columbia Park'},\n",
      " {'aka': 'Edison Field; Anaheim Stadium',\n",
      "  'city': 'Anaheim',\n",
      "  'end_date': None,\n",
      "  'league': 'AL',\n",
      "  'notes': '\"\"',\n",
      "  'park_id': 'ANA01',\n",
      "  'start_date': datetime.date(1966, 4, 19),\n",
      "  'state': 'CA',\n",
      "  'verbose_name': 'Angel Stadium of Anaheim'}]\n",
      "{'aka': '',\n",
      " 'city': 'New York',\n",
      " 'end_date': None,\n",
      " 'league': 'NL',\n",
      " 'notes': '\"\"',\n",
      " 'park_id': 'NYC20',\n",
      " 'start_date': datetime.date(2009, 4, 13),\n",
      " 'state': 'NY',\n",
      " 'verbose_name': 'Citi Field'}\n"
     ]
    }
   ],
   "source": [
    "# client signature: get_parks(self, city=None, state=None, league=None)\n",
    "pprint(list(client.get_parks())[:3])\n",
    "\n",
    "# client signature: get_park(self, park_id)\n",
    "pprint(client.get_park(\"NYC20\"))"
   ]
  },
  {
   "cell_type": "markdown",
   "metadata": {},
   "source": [
    "## Search for Teams"
   ]
  },
  {
   "cell_type": "code",
   "execution_count": 30,
   "metadata": {},
   "outputs": [
    {
     "name": "stdout",
     "output_type": "stream",
     "text": [
      "[{'city': 'Altoona',\n",
      "  'end_year': 1884,\n",
      "  'franchise_id': 'ALT',\n",
      "  'id': 0,\n",
      "  'league': 'UA',\n",
      "  'nick_name': 'Mountain Cities',\n",
      "  'start_year': 1884,\n",
      "  'team_id': 'ALT'},\n",
      " {'city': 'Arizona',\n",
      "  'end_year': None,\n",
      "  'franchise_id': 'ARI',\n",
      "  'id': 1,\n",
      "  'league': 'NL',\n",
      "  'nick_name': 'Diamondbacks',\n",
      "  'start_year': 1998,\n",
      "  'team_id': 'ARI'},\n",
      " {'city': 'Buffalo',\n",
      "  'end_year': 1885,\n",
      "  'franchise_id': 'BFN',\n",
      "  'id': 2,\n",
      "  'league': 'NL',\n",
      "  'nick_name': 'Bisons',\n",
      "  'start_year': 1879,\n",
      "  'team_id': 'BFN'}]\n",
      "--------------\n",
      "{'city': 'New York',\n",
      " 'end_year': None,\n",
      " 'franchise_id': 'BLA',\n",
      " 'id': 9,\n",
      " 'league': 'AL',\n",
      " 'nick_name': 'Yankees',\n",
      " 'start_year': 1903,\n",
      " 'team_id': 'NYA'}\n"
     ]
    }
   ],
   "source": [
    "pprint(list(client.get_teams())[:3])\n",
    "\n",
    "print(\"--------------\")\n",
    "\n",
    "yankees = client.get_team(9)\n",
    "pprint(yankees)"
   ]
  },
  {
   "cell_type": "markdown",
   "metadata": {},
   "source": [
    "## Get Raw Retrosheet Events for a Player (PAID)"
   ]
  },
  {
   "cell_type": "code",
   "execution_count": 33,
   "metadata": {},
   "outputs": [
    {
     "name": "stdout",
     "output_type": "stream",
     "text": [
      "{'count_on_play': '02',\n",
      " 'date': datetime.date(1995, 5, 29),\n",
      " 'event_count': 21,\n",
      " 'event_description': '9/F9S',\n",
      " 'game_id': 'SEA199505290',\n",
      " 'hitter_retro_id': 'jeted001',\n",
      " 'inning': 3,\n",
      " 'pitch_sequence': 'CCX',\n",
      " 'pitcher_retro_id': 'carmr001'}\n",
      "{'count_on_play': '22',\n",
      " 'date': datetime.date(1994, 8, 1),\n",
      " 'event_count': 9,\n",
      " 'event_description': '9/F9M',\n",
      " 'game_id': 'LAN199408010',\n",
      " 'hitter_retro_id': 'piazm001',\n",
      " 'inning': 1,\n",
      " 'pitch_sequence': 'CFBBFFX',\n",
      " 'pitcher_retro_id': 'hamij002'}\n"
     ]
    }
   ],
   "source": [
    "jeter_events: Generator = client.get_player_events(\"jeted001\")\n",
    "    \n",
    "pprint(next(jeter_events))\n",
    "\n",
    "# Filter by start and end date too!\n",
    "piazza_events: Generator = client.get_player_events(\"piazm001\", start_date=\"1994-08-01\", end_date=\"1994-09-01\")\n",
    "pprint(next(piazza_events))"
   ]
  },
  {
   "cell_type": "markdown",
   "metadata": {},
   "source": [
    "## Get Raw Retrosheet Events for an entire game (PAID)"
   ]
  },
  {
   "cell_type": "code",
   "execution_count": 37,
   "metadata": {},
   "outputs": [
    {
     "data": {
      "text/plain": [
       "[{'hitter_retro_id': 'robeb002',\n",
       "  'pitcher_retro_id': 'herso001',\n",
       "  'pitch_sequence': 'FX',\n",
       "  'event_description': 'S14/L13',\n",
       "  'count_on_play': '01',\n",
       "  'inning': 1,\n",
       "  'event_count': 1},\n",
       " {'hitter_retro_id': 'gwynt001',\n",
       "  'pitcher_retro_id': 'herso001',\n",
       "  'pitch_sequence': 'BF1B11X',\n",
       "  'event_description': '54(1)/FO/G5.B-1',\n",
       "  'count_on_play': '21',\n",
       "  'inning': 1,\n",
       "  'event_count': 2},\n",
       " {'hitter_retro_id': 'belld001',\n",
       "  'pitcher_retro_id': 'herso001',\n",
       "  'pitch_sequence': 'BSCFX',\n",
       "  'event_description': '13/G34.1-2',\n",
       "  'count_on_play': '12',\n",
       "  'inning': 1,\n",
       "  'event_count': 3}]"
      ]
     },
     "execution_count": 37,
     "metadata": {},
     "output_type": "execute_result"
    }
   ],
   "source": [
    "# trimmed to first 3 events\n",
    "client.get_game_events(\"LAN199408010\")[:3]"
   ]
  },
  {
   "cell_type": "code",
   "execution_count": null,
   "metadata": {},
   "outputs": [],
   "source": []
  }
 ],
 "metadata": {
  "kernelspec": {
   "display_name": "Python 3",
   "language": "python",
   "name": "python3"
  },
  "language_info": {
   "codemirror_mode": {
    "name": "ipython",
    "version": 3
   },
   "file_extension": ".py",
   "mimetype": "text/x-python",
   "name": "python",
   "nbconvert_exporter": "python",
   "pygments_lexer": "ipython3",
   "version": "3.7.2"
  }
 },
 "nbformat": 4,
 "nbformat_minor": 4
}
